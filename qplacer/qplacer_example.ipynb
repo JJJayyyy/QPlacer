{
 "cells": [
  {
   "cell_type": "code",
   "execution_count": null,
   "metadata": {},
   "outputs": [],
   "source": [
    "import json\n",
    "from qplacer_bm.benchmark_generation import BenchmarkGenerator\n",
    "\n",
    "%matplotlib inline\n",
    "%reload_ext autoreload\n",
    "%autoreload 2"
   ]
  },
  {
   "cell_type": "markdown",
   "metadata": {},
   "source": [
    "## Generating Benchmarks for Placer\n",
    "\n",
    "This document provides instructions on how to generate benchmarks for use with the Placer tool. Follow the steps outlined below to ensure that the necessary files are correctly prepared and stored in the appropriate directories."
   ]
  },
  {
   "cell_type": "code",
   "execution_count": null,
   "metadata": {},
   "outputs": [],
   "source": [
    "bm_json = 'qplacer_bm/benchmark_params.json'\n",
    "with open(bm_json, 'r') as json_file:\n",
    "    bm = json.load(json_file)\n",
    "\n",
    "t = \"grid-25\"\n",
    "g = BenchmarkGenerator(bm_json=bm)\n",
    "g(topology=t)"
   ]
  },
  {
   "cell_type": "markdown",
   "metadata": {},
   "source": [
    "## Check Inputs for Placer Engine\n",
    "\n",
    "- **Default DEF and LEF Files**\n",
    "\n",
    "The default `.def` and `.lef` files will be saved in the `/benchmark` directory.\n",
    "\n",
    "- **Default Parameter Files**\n",
    "\n",
    "The configuration or parameter files (`.json` format) will be saved in the `/test` directory."
   ]
  },
  {
   "cell_type": "markdown",
   "metadata": {},
   "source": [
    "## Run Placer\n",
    "\n",
    "Navigate to directory `qplacer` and run `qplacer_engine/Placer.py` with JSON configuration file for full placement.\n",
    "\n",
    "```\n",
    "python qplacer_engine/Placer.py test/grid-25/wp_wf/grid-25_wp_wf.json\n",
    "```"
   ]
  },
  {
   "cell_type": "markdown",
   "metadata": {},
   "source": [
    "## Check Results\n",
    "\n",
    "Navigate to directory `results`\n",
    "\n",
    "`.gp.def` for global placement result, `.lg.def` for legalized result."
   ]
  }
 ],
 "metadata": {
  "kernelspec": {
   "display_name": "metal_projects",
   "language": "python",
   "name": "python3"
  },
  "language_info": {
   "codemirror_mode": {
    "name": "ipython",
    "version": 3
   },
   "file_extension": ".py",
   "mimetype": "text/x-python",
   "name": "python",
   "nbconvert_exporter": "python",
   "pygments_lexer": "ipython3",
   "version": "3.10.14"
  },
  "orig_nbformat": 4
 },
 "nbformat": 4,
 "nbformat_minor": 2
}
